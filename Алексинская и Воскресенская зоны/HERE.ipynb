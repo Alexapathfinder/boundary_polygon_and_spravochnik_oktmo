{
 "cells": [
  {
   "cell_type": "code",
   "execution_count": 1,
   "id": "running-roots",
   "metadata": {},
   "outputs": [],
   "source": [
    "import requests\n",
    "import json\n",
    "import pandas as pd"
   ]
  },
  {
   "cell_type": "markdown",
   "id": "systematic-activity",
   "metadata": {},
   "source": [
    "Для начала укажем сайт, к которому будем подключаться по апи, чтобы геокодировать адреса, и уникальный ключ:"
   ]
  },
  {
   "cell_type": "code",
   "execution_count": 2,
   "id": "moved-mention",
   "metadata": {},
   "outputs": [],
   "source": [
    "URL = \"https://geocode.search.hereapi.com/v1/geocode\""
   ]
  },
  {
   "cell_type": "markdown",
   "id": "executive-austin",
   "metadata": {},
   "source": [
    "<u/>ВАЖНО:</u>\n",
    "Ключ требуется перезапрашивать каждый раз!"
   ]
  },
  {
   "cell_type": "code",
   "execution_count": 3,
   "id": "supported-romantic",
   "metadata": {},
   "outputs": [
    {
     "name": "stdout",
     "output_type": "stream",
     "text": [
      "Введите api-key и нажмите ENTER zmyoRB6C6sOJgj7i_cxqk70njziydahcFOTWejKYSRI\n"
     ]
    }
   ],
   "source": [
    "api_key = input(\"Введите api-key и нажмите ENTER \")"
   ]
  },
  {
   "cell_type": "markdown",
   "id": "understanding-treasure",
   "metadata": {},
   "source": [
    "Напишем функцию, где будем геокодировать адреса при помощи HERE. На вход будет подаваться датафрейм с запросами (Столбец с адресом должен называться \"Запрос\"), на выходе - новый датафрейм с ответом от HERE:"
   ]
  },
  {
   "cell_type": "code",
   "execution_count": 4,
   "id": "painted-eugene",
   "metadata": {},
   "outputs": [],
   "source": [
    "def using_here(df):\n",
    "\n",
    "    # Создадим пустой датафрейм, который заполним в конце и вернем как результат выполненной функции:\n",
    "    answer = pd.DataFrame()\n",
    "    \n",
    "    # Теперь перебираем запросы и складываем результат в списки\n",
    "    for i in range(len(df)):\n",
    "        request = df['Запрос'][i]\n",
    "        PARAMS = {'apikey':api_key,'q':request} \n",
    "        \n",
    "        # при помощи библиотеки requests отправляем параметры:\n",
    "        r = requests.get(url = URL, params = PARAMS) \n",
    "        \n",
    "        # и получаем ответ в формате .json, который будем парсить:\n",
    "        data = r.json()\n",
    "        \n",
    "        # не всегда находится нужный адрес, поэтому предусмотрим этот момент и заполним пропусками пустой ответ        \n",
    "        if len(data['items']) > 0:\n",
    "            df1 = pd.json_normalize(data['items'][0])\n",
    "            df1.insert(0, \"request\", request)\n",
    "            answer = pd.concat([answer, df1])\n",
    "        else:\n",
    "            row_list = []\n",
    "            row_list.append(['NaN' for i in range(29)])\n",
    "            df1 = pd.DataFrame(row_list)   \n",
    "            df1.columns=['title', 'id', 'resultType', 'houseNumberType', 'access',\n",
    "                           'houseNumberFallback', 'address.label', 'address.countryCode',\n",
    "                           'address.countryName', 'address.state', 'address.county',\n",
    "                           'address.city', 'address.district', 'address.street',\n",
    "                           'address.postalCode', 'address.houseNumber', 'position.lat',\n",
    "                           'position.lng', 'mapView.west', 'mapView.south', 'mapView.east',\n",
    "                           'mapView.north', 'scoring.queryScore', 'scoring.fieldScore.county',\n",
    "                           'scoring.fieldScore.city', 'scoring.fieldScore.streets',\n",
    "                           'scoring.fieldScore.houseNumber', 'scoring.fieldScore.postalCode',\n",
    "                           'localityType']\n",
    "            df1.insert(0, \"request\", request)\n",
    "            answer = pd.concat([answer, df1])\n",
    "    \n",
    "    # Переименуем столбцы под свои нужды и оставим только те, что нам нужны\n",
    "    new_answer = pd.DataFrame()\n",
    "    \n",
    "    new_answer['Запрос'] = answer['request']\n",
    "    new_answer['Адрес'] = answer['address.label']\n",
    "    new_answer['Широта'] = answer['position.lat']\n",
    "    new_answer['Долгота'] = answer['position.lng']\n",
    "    new_answer['Страна'] = answer['address.countryName']\n",
    "    new_answer['Округ'] = answer['address.state']\n",
    "    new_answer['Субъект'] = answer['address.county']\n",
    "    new_answer['Город'] = answer['address.city']\n",
    "    new_answer['Населенный пункт'] = answer['address.district']\n",
    "    new_answer['Улица'] = answer['address.street']\n",
    "    new_answer['Дом'] = answer['address.houseNumber']\n",
    "    new_answer['Индекс'] = answer['address.postalCode']\n",
    "    new_answer['Статус запроса'] = answer['resultType']\n",
    "    \n",
    "    return new_answer       # Возвращаем датафрейм   "
   ]
  },
  {
   "cell_type": "markdown",
   "id": "miniature-genome",
   "metadata": {},
   "source": [
    "Открываем наш файл со столбцом <u/>\"Запрос\":</u>:"
   ]
  },
  {
   "cell_type": "code",
   "execution_count": 5,
   "id": "phantom-sudan",
   "metadata": {},
   "outputs": [],
   "source": [
    "dataframe = pd.read_excel('Алексинский и Воскресенский кластеры.xlsx')"
   ]
  },
  {
   "cell_type": "markdown",
   "id": "average-irrigation",
   "metadata": {},
   "source": [
    "Вызываем функцию:"
   ]
  },
  {
   "cell_type": "code",
   "execution_count": 6,
   "id": "suspected-welcome",
   "metadata": {},
   "outputs": [
    {
     "name": "stdout",
     "output_type": "stream",
     "text": [
      "Wall time: 38.6 s\n"
     ]
    }
   ],
   "source": [
    "%%time\n",
    "newdata = using_here(dataframe)"
   ]
  },
  {
   "cell_type": "markdown",
   "id": "relevant-mozambique",
   "metadata": {},
   "source": [
    "Проверяем, что получилось:"
   ]
  },
  {
   "cell_type": "code",
   "execution_count": 7,
   "id": "measured-strike",
   "metadata": {},
   "outputs": [
    {
     "data": {
      "text/html": [
       "<div>\n",
       "<style scoped>\n",
       "    .dataframe tbody tr th:only-of-type {\n",
       "        vertical-align: middle;\n",
       "    }\n",
       "\n",
       "    .dataframe tbody tr th {\n",
       "        vertical-align: top;\n",
       "    }\n",
       "\n",
       "    .dataframe thead th {\n",
       "        text-align: right;\n",
       "    }\n",
       "</style>\n",
       "<table border=\"1\" class=\"dataframe\">\n",
       "  <thead>\n",
       "    <tr style=\"text-align: right;\">\n",
       "      <th></th>\n",
       "      <th>Запрос</th>\n",
       "      <th>Адрес</th>\n",
       "      <th>Широта</th>\n",
       "      <th>Долгота</th>\n",
       "      <th>Страна</th>\n",
       "      <th>Округ</th>\n",
       "      <th>Субъект</th>\n",
       "      <th>Город</th>\n",
       "      <th>Населенный пункт</th>\n",
       "      <th>Улица</th>\n",
       "      <th>Дом</th>\n",
       "      <th>Индекс</th>\n",
       "      <th>Статус запроса</th>\n",
       "    </tr>\n",
       "  </thead>\n",
       "  <tbody>\n",
       "    <tr>\n",
       "      <th>0</th>\n",
       "      <td>141654, обл Московская, г Клин, д Аксениха, д. 1</td>\n",
       "      <td>Аксениха 3, Клин, Россия, 141654</td>\n",
       "      <td>56.17528</td>\n",
       "      <td>36.40266</td>\n",
       "      <td>Россия</td>\n",
       "      <td>Центральный федеральный округ</td>\n",
       "      <td>Московская область</td>\n",
       "      <td>Клин</td>\n",
       "      <td>Аксениха</td>\n",
       "      <td>Аксениха</td>\n",
       "      <td>3</td>\n",
       "      <td>141654</td>\n",
       "      <td>houseNumber</td>\n",
       "    </tr>\n",
       "    <tr>\n",
       "      <th>0</th>\n",
       "      <td>141654, обл Московская, г Клин, д Аксениха, д. 2</td>\n",
       "      <td>Аксениха 2, Клин, Россия, 141654</td>\n",
       "      <td>56.17555</td>\n",
       "      <td>36.4027</td>\n",
       "      <td>Россия</td>\n",
       "      <td>Центральный федеральный округ</td>\n",
       "      <td>Московская область</td>\n",
       "      <td>Клин</td>\n",
       "      <td>Аксениха</td>\n",
       "      <td>Аксениха</td>\n",
       "      <td>2</td>\n",
       "      <td>141654</td>\n",
       "      <td>houseNumber</td>\n",
       "    </tr>\n",
       "    <tr>\n",
       "      <th>0</th>\n",
       "      <td>141654, обл Московская, г Клин, д Аксениха, д. 12</td>\n",
       "      <td>Аксениха 10, Клин, Россия, 141654</td>\n",
       "      <td>56.1756</td>\n",
       "      <td>36.40617</td>\n",
       "      <td>Россия</td>\n",
       "      <td>Центральный федеральный округ</td>\n",
       "      <td>Московская область</td>\n",
       "      <td>Клин</td>\n",
       "      <td>Аксениха</td>\n",
       "      <td>Аксениха</td>\n",
       "      <td>10</td>\n",
       "      <td>141654</td>\n",
       "      <td>houseNumber</td>\n",
       "    </tr>\n",
       "    <tr>\n",
       "      <th>0</th>\n",
       "      <td>141654, обл Московская, г Клин, д Аксениха, д. 16</td>\n",
       "      <td>Аксениха 10, Клин, Россия, 141654</td>\n",
       "      <td>56.1756</td>\n",
       "      <td>36.40617</td>\n",
       "      <td>Россия</td>\n",
       "      <td>Центральный федеральный округ</td>\n",
       "      <td>Московская область</td>\n",
       "      <td>Клин</td>\n",
       "      <td>Аксениха</td>\n",
       "      <td>Аксениха</td>\n",
       "      <td>10</td>\n",
       "      <td>141654</td>\n",
       "      <td>houseNumber</td>\n",
       "    </tr>\n",
       "    <tr>\n",
       "      <th>0</th>\n",
       "      <td>141544, обл Московская, г Солнечногорск, д Бла...</td>\n",
       "      <td>Благовещенка 9, Солнечногорск, Россия, 141544</td>\n",
       "      <td>55.90955</td>\n",
       "      <td>37.23075</td>\n",
       "      <td>Россия</td>\n",
       "      <td>Центральный федеральный округ</td>\n",
       "      <td>Московская область</td>\n",
       "      <td>Солнечногорск</td>\n",
       "      <td>Благовещенка</td>\n",
       "      <td>Благовещенка</td>\n",
       "      <td>9</td>\n",
       "      <td>141544</td>\n",
       "      <td>houseNumber</td>\n",
       "    </tr>\n",
       "    <tr>\n",
       "      <th>0</th>\n",
       "      <td>обл Московская, г Клин, д. 181</td>\n",
       "      <td>Клин, Центральный федеральный округ, Россия</td>\n",
       "      <td>56.33655</td>\n",
       "      <td>36.71933</td>\n",
       "      <td>Россия</td>\n",
       "      <td>Центральный федеральный округ</td>\n",
       "      <td>Московская область</td>\n",
       "      <td>Клин</td>\n",
       "      <td>NaN</td>\n",
       "      <td>NaN</td>\n",
       "      <td>NaN</td>\n",
       "      <td>141601</td>\n",
       "      <td>locality</td>\n",
       "    </tr>\n",
       "    <tr>\n",
       "      <th>0</th>\n",
       "      <td>141607, обл Московская, г Клин, ул Миши Балаки...</td>\n",
       "      <td>улица Миши Балакирева 18/67, Клин, Россия, 141607</td>\n",
       "      <td>56.32512</td>\n",
       "      <td>36.71904</td>\n",
       "      <td>Россия</td>\n",
       "      <td>Центральный федеральный округ</td>\n",
       "      <td>Московская область</td>\n",
       "      <td>Клин</td>\n",
       "      <td>Клин</td>\n",
       "      <td>улица Миши Балакирева</td>\n",
       "      <td>18/67</td>\n",
       "      <td>141607</td>\n",
       "      <td>houseNumber</td>\n",
       "    </tr>\n",
       "    <tr>\n",
       "      <th>0</th>\n",
       "      <td>141605, обл Московская, г Клин, ул Центральная...</td>\n",
       "      <td>Центральная улица 103, Клин, Россия, 141605</td>\n",
       "      <td>56.36992</td>\n",
       "      <td>36.70453</td>\n",
       "      <td>Россия</td>\n",
       "      <td>Центральный федеральный округ</td>\n",
       "      <td>Московская область</td>\n",
       "      <td>Клин</td>\n",
       "      <td>Клин</td>\n",
       "      <td>Центральная улица</td>\n",
       "      <td>103</td>\n",
       "      <td>141605</td>\n",
       "      <td>houseNumber</td>\n",
       "    </tr>\n",
       "    <tr>\n",
       "      <th>0</th>\n",
       "      <td>141605, обл Московская, г Клин, ул Инженерная,...</td>\n",
       "      <td>Инженерная улица 203, Клин, Россия, 141605</td>\n",
       "      <td>56.37412</td>\n",
       "      <td>36.70578</td>\n",
       "      <td>Россия</td>\n",
       "      <td>Центральный федеральный округ</td>\n",
       "      <td>Московская область</td>\n",
       "      <td>Клин</td>\n",
       "      <td>Клин</td>\n",
       "      <td>Инженерная улица</td>\n",
       "      <td>203</td>\n",
       "      <td>141605</td>\n",
       "      <td>houseNumber</td>\n",
       "    </tr>\n",
       "    <tr>\n",
       "      <th>0</th>\n",
       "      <td>141605, обл Московская, г Клин, ул Инженерная,...</td>\n",
       "      <td>Инженерная улица 205, Клин, Россия, 141605</td>\n",
       "      <td>56.37336</td>\n",
       "      <td>36.70539</td>\n",
       "      <td>Россия</td>\n",
       "      <td>Центральный федеральный округ</td>\n",
       "      <td>Московская область</td>\n",
       "      <td>Клин</td>\n",
       "      <td>Клин</td>\n",
       "      <td>Инженерная улица</td>\n",
       "      <td>205</td>\n",
       "      <td>141605</td>\n",
       "      <td>houseNumber</td>\n",
       "    </tr>\n",
       "  </tbody>\n",
       "</table>\n",
       "</div>"
      ],
      "text/plain": [
       "                                              Запрос  \\\n",
       "0   141654, обл Московская, г Клин, д Аксениха, д. 1   \n",
       "0   141654, обл Московская, г Клин, д Аксениха, д. 2   \n",
       "0  141654, обл Московская, г Клин, д Аксениха, д. 12   \n",
       "0  141654, обл Московская, г Клин, д Аксениха, д. 16   \n",
       "0  141544, обл Московская, г Солнечногорск, д Бла...   \n",
       "0                     обл Московская, г Клин, д. 181   \n",
       "0  141607, обл Московская, г Клин, ул Миши Балаки...   \n",
       "0  141605, обл Московская, г Клин, ул Центральная...   \n",
       "0  141605, обл Московская, г Клин, ул Инженерная,...   \n",
       "0  141605, обл Московская, г Клин, ул Инженерная,...   \n",
       "\n",
       "                                               Адрес    Широта   Долгота  \\\n",
       "0                   Аксениха 3, Клин, Россия, 141654  56.17528  36.40266   \n",
       "0                   Аксениха 2, Клин, Россия, 141654  56.17555   36.4027   \n",
       "0                  Аксениха 10, Клин, Россия, 141654   56.1756  36.40617   \n",
       "0                  Аксениха 10, Клин, Россия, 141654   56.1756  36.40617   \n",
       "0      Благовещенка 9, Солнечногорск, Россия, 141544  55.90955  37.23075   \n",
       "0        Клин, Центральный федеральный округ, Россия  56.33655  36.71933   \n",
       "0  улица Миши Балакирева 18/67, Клин, Россия, 141607  56.32512  36.71904   \n",
       "0        Центральная улица 103, Клин, Россия, 141605  56.36992  36.70453   \n",
       "0         Инженерная улица 203, Клин, Россия, 141605  56.37412  36.70578   \n",
       "0         Инженерная улица 205, Клин, Россия, 141605  56.37336  36.70539   \n",
       "\n",
       "   Страна                          Округ             Субъект          Город  \\\n",
       "0  Россия  Центральный федеральный округ  Московская область           Клин   \n",
       "0  Россия  Центральный федеральный округ  Московская область           Клин   \n",
       "0  Россия  Центральный федеральный округ  Московская область           Клин   \n",
       "0  Россия  Центральный федеральный округ  Московская область           Клин   \n",
       "0  Россия  Центральный федеральный округ  Московская область  Солнечногорск   \n",
       "0  Россия  Центральный федеральный округ  Московская область           Клин   \n",
       "0  Россия  Центральный федеральный округ  Московская область           Клин   \n",
       "0  Россия  Центральный федеральный округ  Московская область           Клин   \n",
       "0  Россия  Центральный федеральный округ  Московская область           Клин   \n",
       "0  Россия  Центральный федеральный округ  Московская область           Клин   \n",
       "\n",
       "  Населенный пункт                  Улица    Дом  Индекс Статус запроса  \n",
       "0         Аксениха               Аксениха      3  141654    houseNumber  \n",
       "0         Аксениха               Аксениха      2  141654    houseNumber  \n",
       "0         Аксениха               Аксениха     10  141654    houseNumber  \n",
       "0         Аксениха               Аксениха     10  141654    houseNumber  \n",
       "0     Благовещенка           Благовещенка      9  141544    houseNumber  \n",
       "0              NaN                    NaN    NaN  141601       locality  \n",
       "0             Клин  улица Миши Балакирева  18/67  141607    houseNumber  \n",
       "0             Клин      Центральная улица    103  141605    houseNumber  \n",
       "0             Клин       Инженерная улица    203  141605    houseNumber  \n",
       "0             Клин       Инженерная улица    205  141605    houseNumber  "
      ]
     },
     "execution_count": 7,
     "metadata": {},
     "output_type": "execute_result"
    }
   ],
   "source": [
    "newdata[:10]"
   ]
  },
  {
   "cell_type": "markdown",
   "id": "funny-singapore",
   "metadata": {},
   "source": [
    "Заменяем пропуски на пустые значения:"
   ]
  },
  {
   "cell_type": "code",
   "execution_count": 8,
   "id": "indian-developer",
   "metadata": {},
   "outputs": [],
   "source": [
    "import numpy as np\n",
    "newdata = newdata.replace('NaN', '', regex=True)"
   ]
  },
  {
   "cell_type": "markdown",
   "id": "incorporate-cattle",
   "metadata": {},
   "source": [
    "И сохраняем в эксель:"
   ]
  },
  {
   "cell_type": "code",
   "execution_count": 9,
   "id": "certain-wedding",
   "metadata": {},
   "outputs": [],
   "source": [
    "newdata.to_excel('Геокодирование областей.xlsx', index=False)"
   ]
  }
 ],
 "metadata": {
  "kernelspec": {
   "display_name": "Python 3",
   "language": "python",
   "name": "python3"
  },
  "language_info": {
   "codemirror_mode": {
    "name": "ipython",
    "version": 3
   },
   "file_extension": ".py",
   "mimetype": "text/x-python",
   "name": "python",
   "nbconvert_exporter": "python",
   "pygments_lexer": "ipython3",
   "version": "3.8.8"
  }
 },
 "nbformat": 4,
 "nbformat_minor": 5
}
